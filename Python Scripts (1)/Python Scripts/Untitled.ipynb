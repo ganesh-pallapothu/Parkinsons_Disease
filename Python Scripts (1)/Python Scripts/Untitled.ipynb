{
 "cells": [
  {
   "cell_type": "code",
   "execution_count": null,
   "id": "c226cf1e",
   "metadata": {},
   "outputs": [],
   "source": [
    "import pandas as pd\n",
    "from sklearn.metrics import confusion_matrix\n",
    "import numpy as np\n",
    "from matplotlib import pyplot as plt\n",
    "\n",
    "from sklearn.model_selection import train_test_split\n",
    "from sklearn.preprocessing import StandardScaler\n",
    "from sklearn import svm\n",
    "from sklearn.metrics import accuracy_score"
   ]
  },
  {
   "cell_type": "code",
   "execution_count": null,
   "id": "ed522151",
   "metadata": {},
   "outputs": [],
   "source": [
    "import numpy as np\n",
    "import pandas as pd\n",
    "from sklearn.neighbors import KNeighborsClassifier\n",
    "from sklearn.model_selection import train_test_split\n",
    "from FS.woa import jfs   # change this to switch algorithm \n",
    "import matplotlib.pyplot as plt\n"
   ]
  },
  {
   "cell_type": "code",
   "execution_count": null,
   "id": "eb8c3c36",
   "metadata": {},
   "outputs": [],
   "source": [
    "cell_df=pd.read_csv(\"parkinsons.csv\")"
   ]
  },
  {
   "cell_type": "code",
   "execution_count": null,
   "id": "eef7aa2d",
   "metadata": {},
   "outputs": [],
   "source": [
    "plt.scatter(cell_df.spread1,cell_df.spread2)\n",
    "plt.title('spread1 vs spread2')\n",
    "print(\"spread1,spread2 - Two non-linear measures of fundamental frequency variation\")"
   ]
  },
  {
   "cell_type": "code",
   "execution_count": null,
   "id": "eea747d5",
   "metadata": {},
   "outputs": [],
   "source": [
    "cell_df.shape"
   ]
  },
  {
   "cell_type": "code",
   "execution_count": null,
   "id": "66f4fcfd",
   "metadata": {},
   "outputs": [],
   "source": [
    "cell_df.hist(bins=15, figsize=(20,15),alpha=1,grid=False, rwidth=1, )"
   ]
  },
  {
   "cell_type": "code",
   "execution_count": null,
   "id": "7a6fdf12",
   "metadata": {},
   "outputs": [],
   "source": [
    "sns.displot(cell_df,x='MDVP:Fo(Hz)',kde=True, rug=True)"
   ]
  },
  {
   "cell_type": "code",
   "execution_count": null,
   "id": "5c790007",
   "metadata": {},
   "outputs": [],
   "source": [
    "cell_df.info()"
   ]
  },
  {
   "cell_type": "code",
   "execution_count": null,
   "id": "bed2039e",
   "metadata": {},
   "outputs": [],
   "source": [
    "cell_df.count()"
   ]
  },
  {
   "cell_type": "code",
   "execution_count": null,
   "id": "fedb729c",
   "metadata": {},
   "outputs": [],
   "source": [
    "cell_df['status'].value_counts()"
   ]
  },
  {
   "cell_type": "code",
   "execution_count": null,
   "id": "6663d1c3",
   "metadata": {},
   "outputs": [],
   "source": [
    "plot1=cell_df[cell_df['status']==0]\n",
    "plot2=cell_df[cell_df['status']==1]\n",
    "\n",
    "plot3=plot1.plot(kind='scatter',x='MDVP:Fhi(Hz)',y='MDVP:Flo(Hz)',label='Parkinsons Negative',color='g')\n",
    "plot2.plot(kind='scatter',x='MDVP:Fhi(Hz)',y='MDVP:Flo(Hz)',label='Parkinsons positive',ax=plot3,color='r')"
   ]
  },
  {
   "cell_type": "code",
   "execution_count": null,
   "id": "b691b2bb",
   "metadata": {
    "scrolled": true
   },
   "outputs": [],
   "source": [
    "cell_df.groupby('status').mean()\n"
   ]
  },
  {
   "cell_type": "code",
   "execution_count": null,
   "id": "7abc74cf",
   "metadata": {},
   "outputs": [],
   "source": [
    "x=cell_df.drop(columns=['name','status'],axis=1)\n",
    "y=cell_df['status']"
   ]
  },
  {
   "cell_type": "code",
   "execution_count": null,
   "id": "bf1051a7",
   "metadata": {
    "scrolled": true
   },
   "outputs": [],
   "source": [
    "print(x)\n",
    "print(y)"
   ]
  },
  {
   "cell_type": "code",
   "execution_count": null,
   "id": "ecaaf4a1",
   "metadata": {},
   "outputs": [],
   "source": [
    "y.hist()"
   ]
  },
  {
   "cell_type": "code",
   "execution_count": null,
   "id": "19b44f91",
   "metadata": {},
   "outputs": [],
   "source": [
    "X_train, X_test, Y_train, Y_test = train_test_split(x,y,test_size=0.1,random_state=3)"
   ]
  },
  {
   "cell_type": "code",
   "execution_count": null,
   "id": "276e5342",
   "metadata": {},
   "outputs": [],
   "source": [
    "print(x.shape,X_train.shape,X_test.shape)"
   ]
  },
  {
   "cell_type": "code",
   "execution_count": null,
   "id": "c25e0b76",
   "metadata": {},
   "outputs": [],
   "source": [
    "model=svm.SVC(kernel='linear')"
   ]
  },
  {
   "cell_type": "code",
   "execution_count": null,
   "id": "6861113f",
   "metadata": {},
   "outputs": [],
   "source": [
    "model.fit(X_train, Y_train)"
   ]
  },
  {
   "cell_type": "code",
   "execution_count": null,
   "id": "58aa1761",
   "metadata": {},
   "outputs": [],
   "source": []
  },
  {
   "cell_type": "code",
   "execution_count": null,
   "id": "cf88aab1",
   "metadata": {},
   "outputs": [],
   "source": [
    "X_train_prediction=model.predict(X_train)\n",
    "training_data_accuracy=accuracy_score(Y_train,X_train_prediction)"
   ]
  },
  {
   "cell_type": "code",
   "execution_count": null,
   "id": "0b487f55",
   "metadata": {},
   "outputs": [],
   "source": [
    "print(training_data_accuracy)"
   ]
  },
  {
   "cell_type": "code",
   "execution_count": null,
   "id": "130927f0",
   "metadata": {},
   "outputs": [],
   "source": [
    "X_test_prediction=model.predict(X_test)\n",
    "test_data_accuracy=accuracy_score(Y_test,X_test_prediction)"
   ]
  },
  {
   "cell_type": "code",
   "execution_count": null,
   "id": "ca279c0d",
   "metadata": {},
   "outputs": [],
   "source": [
    "print(test_data_accuracy)"
   ]
  },
  {
   "cell_type": "code",
   "execution_count": null,
   "id": "240c3a4c",
   "metadata": {},
   "outputs": [],
   "source": [
    "plt.scatter(X_train.iloc[:,0],X_train.iloc[:,1],c=Y_train,cmap='winter')\n",
    "\n",
    "ax=plt.gca()\n",
    "xlim=ax.get_xlim()\n",
    "ax.scatter(X_test.iloc[:,0],X_test.iloc[:,1],c=Y_test,cmap='winter',marker='s')\n",
    "\n",
    "w=model.coef_[0]\n",
    "a=-w[0]/w[1]\n",
    "xx=np.linspace(xlim[0],xlim[1])\n",
    "yy=a*xx - (model.intercept_[0])/w[1]\n",
    "\n",
    "plt.plot(xx,yy)\n",
    "plt.axis(\"off\"),plt.show();"
   ]
  },
  {
   "cell_type": "code",
   "execution_count": null,
   "id": "ebfe9d4d",
   "metadata": {},
   "outputs": [],
   "source": [
    "plt.scatter(X_test.iloc[:,0],X_test.iloc[:,1],c=Y_test,cmap='winter')"
   ]
  },
  {
   "cell_type": "code",
   "execution_count": null,
   "id": "47d6eb81",
   "metadata": {},
   "outputs": [],
   "source": [
    "def plot_3d_plot(X,Y):\n",
    "    r=np.exp(-(X**2).sum(1))\n",
    "    ax=plt.subplot(projection='3d')\n",
    "    ax.scatter3D(X.iloc[:,0],X.iloc[:,1],r,c=Y,s=100,cmap='bwr')\n",
    "    ax.set_xlabel('X1')\n",
    "    ax.set_ylabel('X2')\n",
    "    ax.set_zlabel('y')\n",
    "    return ax"
   ]
  },
  {
   "cell_type": "code",
   "execution_count": null,
   "id": "15e646ca",
   "metadata": {},
   "outputs": [],
   "source": [
    "plot_3d_plot(X_train,Y_train)"
   ]
  },
  {
   "cell_type": "code",
   "execution_count": null,
   "id": "0d9306e4",
   "metadata": {},
   "outputs": [],
   "source": [
    "from matplotlib.colors import ListedColormap\n",
    "zero_one_colormap=ListedColormap(('blue','red'))\n",
    "def Plot_decision(X,Y,clf):\n",
    "    X_set,Y_set= X,Y\n",
    "    X1,X2=np.meshgrid(np.arange(start=X_set.iloc[:,0].min() -1,\n",
    "                               stop=X_set[:,0].max()+1,\n",
    "                               step=0.01),\n",
    "                     np.arange(start=X_set.iloc[:,1].min() -1,\n",
    "                               stop=X_set[:,1].max()+1,\n",
    "                               step=0.01))\n",
    "    plt.contourf(X1,X2,clf.predict(np.array([X1.ravel(),\n",
    "                                             X2.ravel()]).T).reshape(X1.shape),\n",
    "                alpha=0.75,\n",
    "                cmap=zero_one_colourmap)\n",
    "    plt.xlim(X1.min(),X1.max())\n",
    "    plt.ylim(X2.min(),X2.max())\n",
    "    for i,j in enumerate(np.unique(y_set)):\n",
    "        plt.scatter(X_set[Y_set==j,0],X_set[Y_set==j,1],\n",
    "                   c=(zero_one_colourmap)(i),label=j)\n",
    "        plt.title('svm')\n",
    "        plt.xlable('x1')\n",
    "        plt.ylable('x2')\n",
    "        plt.legend()\n",
    "        return plt.show()\n",
    "    "
   ]
  },
  {
   "cell_type": "code",
   "execution_count": null,
   "id": "e1938021",
   "metadata": {},
   "outputs": [],
   "source": [
    "#whale optimization algorithm\n",
    "# load data\n",
    "data  = pd.read_csv('parkinsons.csv')\n",
    "data  = data.values\n",
    "feat  = np.asarray(data[:, 0:-1])   # feature vector\n",
    "label = np.asarray(data[:, -1])     # label vector\n"
   ]
  },
  {
   "cell_type": "code",
   "execution_count": null,
   "id": "a25f42ff",
   "metadata": {},
   "outputs": [],
   "source": [
    "# split data into train & validation (70 -- 30)\n",
    "xtrain, xtest, ytrain, ytest = train_test_split(feat,label,test_size=0.1,random_state=3)\n",
    "fold = {'xt':xtrain, 'yt':ytrain, 'xv':xtest, 'yv':ytest}"
   ]
  },
  {
   "cell_type": "code",
   "execution_count": null,
   "id": "6404479c",
   "metadata": {},
   "outputs": [],
   "source": [
    "# parameter\n",
    "k    = 5     # k-value in KNN\n",
    "N    = 10    # number of particles\n",
    "T    = 100   # maximum number of iterations\n",
    "w    = 0.9\n",
    "c1   = 2\n",
    "c2   = 2\n",
    "opts = {'k':k, 'fold':fold, 'N':N, 'T':T, 'w':w, 'c1':c1, 'c2':c2}\n"
   ]
  },
  {
   "cell_type": "code",
   "execution_count": 21,
   "id": "ff6d28da",
   "metadata": {},
   "outputs": [
    {
     "ename": "ValueError",
     "evalue": "Unknown label type: 'unknown'",
     "output_type": "error",
     "traceback": [
      "\u001b[1;31m---------------------------------------------------------------------------\u001b[0m",
      "\u001b[1;31mValueError\u001b[0m                                Traceback (most recent call last)",
      "\u001b[1;32mc:\\Users\\ganes\\Documents\\Parkinson's disease\\Python Scripts (1)\\Python Scripts\\Untitled.ipynb Cell 33\u001b[0m in \u001b[0;36m<cell line: 2>\u001b[1;34m()\u001b[0m\n\u001b[0;32m      <a href='vscode-notebook-cell:/c%3A/Users/ganes/Documents/Parkinson%27s%20disease/Python%20Scripts%20%281%29/Python%20Scripts/Untitled.ipynb#X44sZmlsZQ%3D%3D?line=0'>1</a>\u001b[0m \u001b[39m# perform feature selection\u001b[39;00m\n\u001b[1;32m----> <a href='vscode-notebook-cell:/c%3A/Users/ganes/Documents/Parkinson%27s%20disease/Python%20Scripts%20%281%29/Python%20Scripts/Untitled.ipynb#X44sZmlsZQ%3D%3D?line=1'>2</a>\u001b[0m fmdl \u001b[39m=\u001b[39m jfs(feat,label,opts)\n\u001b[0;32m      <a href='vscode-notebook-cell:/c%3A/Users/ganes/Documents/Parkinson%27s%20disease/Python%20Scripts%20%281%29/Python%20Scripts/Untitled.ipynb#X44sZmlsZQ%3D%3D?line=2'>3</a>\u001b[0m sf   \u001b[39m=\u001b[39m fmdl[\u001b[39m'\u001b[39m\u001b[39msf\u001b[39m\u001b[39m'\u001b[39m]\n",
      "File \u001b[1;32mc:\\Users\\ganes\\Documents\\Parkinson's disease\\Python Scripts (1)\\Python Scripts\\FS\\woa.py:66\u001b[0m, in \u001b[0;36mjfs\u001b[1;34m(xtrain, ytrain, opts)\u001b[0m\n\u001b[0;32m     63\u001b[0m fitG \u001b[39m=\u001b[39m \u001b[39mfloat\u001b[39m(\u001b[39m'\u001b[39m\u001b[39minf\u001b[39m\u001b[39m'\u001b[39m)\n\u001b[0;32m     65\u001b[0m \u001b[39mfor\u001b[39;00m i \u001b[39min\u001b[39;00m \u001b[39mrange\u001b[39m(N):\n\u001b[1;32m---> 66\u001b[0m     fit[i,\u001b[39m0\u001b[39m] \u001b[39m=\u001b[39m Fun(xtrain, ytrain, Xbin[i,:], opts)\n\u001b[0;32m     67\u001b[0m     \u001b[39mif\u001b[39;00m fit[i,\u001b[39m0\u001b[39m] \u001b[39m<\u001b[39m fitG:\n\u001b[0;32m     68\u001b[0m         Xgb[\u001b[39m0\u001b[39m,:] \u001b[39m=\u001b[39m X[i,:]\n",
      "File \u001b[1;32mc:\\Users\\ganes\\Documents\\Parkinson's disease\\Python Scripts (1)\\Python Scripts\\FS\\functionHO.py:48\u001b[0m, in \u001b[0;36mFun\u001b[1;34m(xtrain, ytrain, x, opts)\u001b[0m\n\u001b[0;32m     45\u001b[0m     cost  \u001b[39m=\u001b[39m \u001b[39m1\u001b[39m\n\u001b[0;32m     46\u001b[0m \u001b[39melse\u001b[39;00m:\n\u001b[0;32m     47\u001b[0m     \u001b[39m# Get error rate\u001b[39;00m\n\u001b[1;32m---> 48\u001b[0m     error \u001b[39m=\u001b[39m error_rate(xtrain, ytrain, x, opts)\n\u001b[0;32m     49\u001b[0m     \u001b[39m# Objective function\u001b[39;00m\n\u001b[0;32m     50\u001b[0m     cost  \u001b[39m=\u001b[39m alpha \u001b[39m*\u001b[39m error \u001b[39m+\u001b[39m beta \u001b[39m*\u001b[39m (num_feat \u001b[39m/\u001b[39m max_feat)\n",
      "File \u001b[1;32mc:\\Users\\ganes\\Documents\\Parkinson's disease\\Python Scripts (1)\\Python Scripts\\FS\\functionHO.py:25\u001b[0m, in \u001b[0;36merror_rate\u001b[1;34m(xtrain, ytrain, x, opts)\u001b[0m\n\u001b[0;32m     23\u001b[0m \u001b[39m# Training\u001b[39;00m\n\u001b[0;32m     24\u001b[0m mdl     \u001b[39m=\u001b[39m KNeighborsClassifier(n_neighbors \u001b[39m=\u001b[39m k)\n\u001b[1;32m---> 25\u001b[0m mdl\u001b[39m.\u001b[39;49mfit(xtrain, ytrain)\n\u001b[0;32m     26\u001b[0m \u001b[39m# Prediction\u001b[39;00m\n\u001b[0;32m     27\u001b[0m ypred   \u001b[39m=\u001b[39m mdl\u001b[39m.\u001b[39mpredict(xvalid)\n",
      "File \u001b[1;32mc:\\Python\\Python39\\lib\\site-packages\\sklearn\\neighbors\\_classification.py:215\u001b[0m, in \u001b[0;36mKNeighborsClassifier.fit\u001b[1;34m(self, X, y)\u001b[0m\n\u001b[0;32m    196\u001b[0m \u001b[39m\"\"\"Fit the k-nearest neighbors classifier from the training dataset.\u001b[39;00m\n\u001b[0;32m    197\u001b[0m \n\u001b[0;32m    198\u001b[0m \u001b[39mParameters\u001b[39;00m\n\u001b[1;32m   (...)\u001b[0m\n\u001b[0;32m    211\u001b[0m \u001b[39m    The fitted k-nearest neighbors classifier.\u001b[39;00m\n\u001b[0;32m    212\u001b[0m \u001b[39m\"\"\"\u001b[39;00m\n\u001b[0;32m    213\u001b[0m \u001b[39mself\u001b[39m\u001b[39m.\u001b[39m_validate_params()\n\u001b[1;32m--> 215\u001b[0m \u001b[39mreturn\u001b[39;00m \u001b[39mself\u001b[39;49m\u001b[39m.\u001b[39;49m_fit(X, y)\n",
      "File \u001b[1;32mc:\\Python\\Python39\\lib\\site-packages\\sklearn\\neighbors\\_base.py:476\u001b[0m, in \u001b[0;36mNeighborsBase._fit\u001b[1;34m(self, X, y)\u001b[0m\n\u001b[0;32m    473\u001b[0m \u001b[39melse\u001b[39;00m:\n\u001b[0;32m    474\u001b[0m     \u001b[39mself\u001b[39m\u001b[39m.\u001b[39moutputs_2d_ \u001b[39m=\u001b[39m \u001b[39mTrue\u001b[39;00m\n\u001b[1;32m--> 476\u001b[0m check_classification_targets(y)\n\u001b[0;32m    477\u001b[0m \u001b[39mself\u001b[39m\u001b[39m.\u001b[39mclasses_ \u001b[39m=\u001b[39m []\n\u001b[0;32m    478\u001b[0m \u001b[39mself\u001b[39m\u001b[39m.\u001b[39m_y \u001b[39m=\u001b[39m np\u001b[39m.\u001b[39mempty(y\u001b[39m.\u001b[39mshape, dtype\u001b[39m=\u001b[39m\u001b[39mint\u001b[39m)\n",
      "File \u001b[1;32mc:\\Python\\Python39\\lib\\site-packages\\sklearn\\utils\\multiclass.py:218\u001b[0m, in \u001b[0;36mcheck_classification_targets\u001b[1;34m(y)\u001b[0m\n\u001b[0;32m    210\u001b[0m y_type \u001b[39m=\u001b[39m type_of_target(y, input_name\u001b[39m=\u001b[39m\u001b[39m\"\u001b[39m\u001b[39my\u001b[39m\u001b[39m\"\u001b[39m)\n\u001b[0;32m    211\u001b[0m \u001b[39mif\u001b[39;00m y_type \u001b[39mnot\u001b[39;00m \u001b[39min\u001b[39;00m [\n\u001b[0;32m    212\u001b[0m     \u001b[39m\"\u001b[39m\u001b[39mbinary\u001b[39m\u001b[39m\"\u001b[39m,\n\u001b[0;32m    213\u001b[0m     \u001b[39m\"\u001b[39m\u001b[39mmulticlass\u001b[39m\u001b[39m\"\u001b[39m,\n\u001b[1;32m   (...)\u001b[0m\n\u001b[0;32m    216\u001b[0m     \u001b[39m\"\u001b[39m\u001b[39mmultilabel-sequences\u001b[39m\u001b[39m\"\u001b[39m,\n\u001b[0;32m    217\u001b[0m ]:\n\u001b[1;32m--> 218\u001b[0m     \u001b[39mraise\u001b[39;00m \u001b[39mValueError\u001b[39;00m(\u001b[39m\"\u001b[39m\u001b[39mUnknown label type: \u001b[39m\u001b[39m%r\u001b[39;00m\u001b[39m\"\u001b[39m \u001b[39m%\u001b[39m y_type)\n",
      "\u001b[1;31mValueError\u001b[0m: Unknown label type: 'unknown'"
     ]
    }
   ],
   "source": [
    "# perform feature selection\n",
    "fmdl = jfs(feat,label,opts)\n",
    "sf   = fmdl['sf']\n"
   ]
  },
  {
   "cell_type": "code",
   "execution_count": null,
   "id": "6b184d91",
   "metadata": {},
   "outputs": [],
   "source": [
    "num_train = np.size(xtrain, 0)\n",
    "num_valid = np.size(xtest, 0)\n",
    "x_train   = xtrain[:, sf]\n",
    "y_train   = ytrain.reshape(num_train)  # Solve bug\n",
    "x_valid   = xtest[:, sf]\n",
    "y_valid   = ytest.reshape(num_valid)  # Solve bug\n",
    "\n",
    "mdl       = KNeighborsClassifier(n_neighbors = k) \n",
    "mdl.fit(x_train, y_train)"
   ]
  },
  {
   "cell_type": "code",
   "execution_count": null,
   "id": "cdf5b9ae",
   "metadata": {},
   "outputs": [],
   "source": [
    "y_pred    = mdl.predict(x_valid)\n",
    "Acc       = np.sum(y_valid == y_pred)  / num_valid\n",
    "print(\"Accuracy:\", 100 * Acc)\n"
   ]
  }
 ],
 "metadata": {
  "kernelspec": {
   "display_name": "Python 3 (ipykernel)",
   "language": "python",
   "name": "python3"
  },
  "language_info": {
   "codemirror_mode": {
    "name": "ipython",
    "version": 3
   },
   "file_extension": ".py",
   "mimetype": "text/x-python",
   "name": "python",
   "nbconvert_exporter": "python",
   "pygments_lexer": "ipython3",
   "version": "3.9.6"
  }
 },
 "nbformat": 4,
 "nbformat_minor": 5
}
